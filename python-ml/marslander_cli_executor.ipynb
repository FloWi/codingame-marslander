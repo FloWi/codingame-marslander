{
 "cells": [
  {
   "cell_type": "code",
   "execution_count": 5,
   "id": "9f701f59",
   "metadata": {
    "pycharm": {
     "name": "#%%\n"
    }
   },
   "outputs": [],
   "source": [
    "import numpy\n",
    "import json\n",
    "import numpy as np\n",
    "import pandas as pd\n",
    "import tensorflow as tf\n",
    "import ipykernel\n",
    "import subprocess\n",
    "from collections import deque\n",
    "import matplotlib.pyplot as plt\n",
    "from matplotlib.patches import Polygon\n",
    "# import gym"
   ]
  },
  {
   "cell_type": "code",
   "execution_count": 6,
   "id": "634a6b52",
   "metadata": {
    "pycharm": {
     "name": "#%%\n"
    }
   },
   "outputs": [
    {
     "name": "stdout",
     "output_type": "stream",
     "text": [
      "1.23.3\n",
      "6.15.2\n"
     ]
    },
    {
     "data": {
      "text/plain": "[PhysicalDevice(name='/physical_device:CPU:0', device_type='CPU'),\n PhysicalDevice(name='/physical_device:GPU:0', device_type='GPU')]"
     },
     "execution_count": 6,
     "metadata": {},
     "output_type": "execute_result"
    }
   ],
   "source": [
    "print(numpy.version.version)\n",
    "print(ipykernel.__version__)\n",
    "tf.config.list_physical_devices()\n"
   ]
  },
  {
   "cell_type": "markdown",
   "id": "4657876e",
   "metadata": {
    "pycharm": {
     "name": "#%% md\n"
    }
   },
   "source": [
    "# My personal highscore for that level"
   ]
  },
  {
   "cell_type": "code",
   "execution_count": 7,
   "id": "68e8a5f9",
   "metadata": {
    "pycharm": {
     "name": "#%%\n"
    }
   },
   "outputs": [],
   "source": [
    "highscore = {\"commands\":[{\"power\":4,\"rotation\":-43},{\"power\":4,\"rotation\":-43},{\"power\":4,\"rotation\":-43},{\"power\":4,\"rotation\":-43},{\"power\":4,\"rotation\":-43},{\"power\":4,\"rotation\":-43},{\"power\":4,\"rotation\":-43},{\"power\":4,\"rotation\":-43},{\"power\":4,\"rotation\":-43},{\"power\":4,\"rotation\":-43},{\"power\":4,\"rotation\":-43},{\"power\":4,\"rotation\":-43},{\"power\":4,\"rotation\":-43},{\"power\":4,\"rotation\":-43},{\"power\":4,\"rotation\":-43},{\"power\":4,\"rotation\":-43},{\"power\":4,\"rotation\":-43},{\"power\":4,\"rotation\":-43},{\"power\":4,\"rotation\":-43},{\"power\":4,\"rotation\":-43},{\"power\":4,\"rotation\":-43},{\"power\":4,\"rotation\":-43},{\"power\":4,\"rotation\":-43},{\"power\":4,\"rotation\":-43},{\"power\":4,\"rotation\":-43},{\"power\":4,\"rotation\":-43},{\"power\":4,\"rotation\":-43},{\"power\":4,\"rotation\":-43},{\"power\":4,\"rotation\":-43},{\"power\":4,\"rotation\":-43},{\"power\":4,\"rotation\":-43},{\"power\":4,\"rotation\":-43},{\"power\":4,\"rotation\":-43},{\"power\":4,\"rotation\":-43},{\"power\":4,\"rotation\":-43},{\"power\":4,\"rotation\":-43},{\"power\":3,\"rotation\":-22},{\"power\":3,\"rotation\":-22},{\"power\":3,\"rotation\":-22},{\"power\":3,\"rotation\":-22},{\"power\":3,\"rotation\":-22},{\"power\":3,\"rotation\":-22},{\"power\":3,\"rotation\":-22},{\"power\":3,\"rotation\":-22},{\"power\":3,\"rotation\":-22},{\"power\":3,\"rotation\":-22},{\"power\":3,\"rotation\":-22},{\"power\":3,\"rotation\":-22},{\"power\":4,\"rotation\":-5},{\"power\":4,\"rotation\":-5},{\"power\":4,\"rotation\":-5},{\"power\":4,\"rotation\":-5},{\"power\":4,\"rotation\":-5},{\"power\":4,\"rotation\":-5},{\"power\":4,\"rotation\":-5},{\"power\":4,\"rotation\":-5},{\"power\":4,\"rotation\":-5},{\"power\":4,\"rotation\":-5},{\"power\":4,\"rotation\":-5},{\"power\":4,\"rotation\":-5},{\"power\":4,\"rotation\":-5},{\"power\":4,\"rotation\":-5},{\"power\":4,\"rotation\":-5},{\"power\":4,\"rotation\":-5},{\"power\":4,\"rotation\":-5},{\"power\":3,\"rotation\":0},{\"power\":3,\"rotation\":0},{\"power\":3,\"rotation\":0},{\"power\":3,\"rotation\":0},{\"power\":3,\"rotation\":0},{\"power\":3,\"rotation\":0},{\"power\":3,\"rotation\":0},{\"power\":3,\"rotation\":0},{\"power\":3,\"rotation\":0},{\"power\":4,\"rotation\":0},{\"power\":4,\"rotation\":0},{\"power\":4,\"rotation\":0},{\"power\":4,\"rotation\":0},{\"power\":4,\"rotation\":0},{\"power\":4,\"rotation\":0},{\"power\":4,\"rotation\":0},{\"power\":4,\"rotation\":0},{\"power\":4,\"rotation\":0},{\"power\":4,\"rotation\":0},{\"power\":4,\"rotation\":0},{\"power\":4,\"rotation\":0},{\"power\":4,\"rotation\":0},{\"power\":4,\"rotation\":0},{\"power\":4,\"rotation\":0}],\"score\":421}"
   ]
  },
  {
   "cell_type": "code",
   "execution_count": 8,
   "id": "bc760eab",
   "metadata": {
    "pycharm": {
     "name": "#%%\n"
    }
   },
   "outputs": [
    {
     "data": {
      "text/plain": "['-43 4', '-43 4', '-43 4', '-43 4', '-43 4']"
     },
     "execution_count": 8,
     "metadata": {},
     "output_type": "execute_result"
    }
   ],
   "source": [
    "commands = []\n",
    "for kv in highscore[\"commands\"]:\n",
    "  power = kv['power']\n",
    "  rotation = kv['rotation']\n",
    "  commands.append(f\"{rotation} {power}\")\n",
    "\n",
    "commands[:5]"
   ]
  },
  {
   "cell_type": "code",
   "execution_count": 9,
   "id": "f8dbfa89",
   "metadata": {
    "pycharm": {
     "name": "#%%\n"
    }
   },
   "outputs": [],
   "source": [
    "pd.set_option(\"display.max_columns\", None)\n",
    "# pd.set_option(\"display.max_rows\", None)"
   ]
  },
  {
   "cell_type": "markdown",
   "id": "82904cd4",
   "metadata": {
    "pycharm": {
     "name": "#%% md\n"
    }
   },
   "source": [
    "# fullopt"
   ]
  },
  {
   "cell_type": "code",
   "execution_count": 10,
   "id": "0e986dfb",
   "metadata": {
    "pycharm": {
     "name": "#%%\n"
    }
   },
   "outputs": [
    {
     "ename": "NameError",
     "evalue": "name 'df' is not defined",
     "output_type": "error",
     "traceback": [
      "\u001B[0;31m---------------------------------------------------------------------------\u001B[0m",
      "\u001B[0;31mNameError\u001B[0m                                 Traceback (most recent call last)",
      "Cell \u001B[0;32mIn [10], line 1\u001B[0m\n\u001B[0;32m----> 1\u001B[0m coordinates \u001B[38;5;241m=\u001B[39m \u001B[43mdf\u001B[49m[[\u001B[38;5;124m'\u001B[39m\u001B[38;5;124mx\u001B[39m\u001B[38;5;124m'\u001B[39m, \u001B[38;5;124m'\u001B[39m\u001B[38;5;124my\u001B[39m\u001B[38;5;124m'\u001B[39m]]\u001B[38;5;241m.\u001B[39mto_numpy()\n\u001B[1;32m      2\u001B[0m landing_coordinates \u001B[38;5;241m=\u001B[39m np\u001B[38;5;241m.\u001B[39marray([\u001B[38;5;28mlist\u001B[39m(\u001B[38;5;28mmap\u001B[39m(\u001B[38;5;28mint\u001B[39m, line\u001B[38;5;241m.\u001B[39msplit(\u001B[38;5;124m'\u001B[39m\u001B[38;5;124m \u001B[39m\u001B[38;5;124m'\u001B[39m))) \u001B[38;5;28;01mfor\u001B[39;00m line \u001B[38;5;129;01min\u001B[39;00m landing_coords] \u001B[38;5;241m+\u001B[39m [[\u001B[38;5;241m7000\u001B[39m, \u001B[38;5;241m0\u001B[39m], [\u001B[38;5;241m0\u001B[39m, \u001B[38;5;241m0\u001B[39m]])\n\u001B[1;32m      3\u001B[0m poly \u001B[38;5;241m=\u001B[39m Polygon(landing_coordinates, facecolor \u001B[38;5;241m=\u001B[39m \u001B[38;5;124m'\u001B[39m\u001B[38;5;124mr\u001B[39m\u001B[38;5;124m'\u001B[39m)\n",
      "\u001B[0;31mNameError\u001B[0m: name 'df' is not defined"
     ]
    }
   ],
   "source": [
    "coordinates = df[['x', 'y']].to_numpy()\n",
    "landing_coordinates = np.array([list(map(int, line.split(' '))) for line in landing_coords] + [[7000, 0], [0, 0]])\n",
    "poly = Polygon(landing_coordinates, facecolor = 'r')\n",
    "\n",
    "fig,ax = plt.subplots()\n",
    "ax.add_patch(poly)\n",
    "ax.plot(coordinates[:,0], coordinates[:,1]) \n",
    "ax.set_xlim([0,7000])\n",
    "ax.set_ylim([0,3000])\n",
    "   "
   ]
  },
  {
   "cell_type": "markdown",
   "id": "1bcda1cf",
   "metadata": {
    "pycharm": {
     "name": "#%% md\n"
    }
   },
   "source": [
    "## Stesstest 100 games\n",
    "all same seed and the same commands from the highscore path of that level"
   ]
  },
  {
   "cell_type": "code",
   "execution_count": null,
   "outputs": [],
   "source": [
    "%%time\n",
    "import numpy as np\n",
    "\n",
    "from MarsLanderGymEnv import MarsLanderGymEnv\n",
    "import time\n",
    "\n",
    "n = 100\n",
    "\n",
    "with MarsLanderGymEnv() as env:\n",
    "\n",
    "    run_times = []\n",
    "\n",
    "    start = time.time()\n",
    "\n",
    "    for episode in range(n):\n",
    "        s = time.time()\n",
    "        done = False\n",
    "        obs = env.reset()\n",
    "        while True:  # not done:\n",
    "            random_action = env.action_space.sample()\n",
    "            # print(\"action\", random_action)\n",
    "            obs, reward, done, truncated, info = env.step(random_action)\n",
    "            # print('reward', reward)\n",
    "            if done:\n",
    "                # print(\"is_done\")\n",
    "                break\n",
    "        e = time.time()\n",
    "        run_times.append([episode, (e - s) * 1000])\n",
    "\n",
    "    end = time.time()\n",
    "\n",
    "    run_times = np.array(run_times)\n"
   ],
   "metadata": {
    "collapsed": false,
    "pycharm": {
     "name": "#%%\n"
    }
   }
  },
  {
   "cell_type": "markdown",
   "id": "a0b05d42",
   "metadata": {
    "pycharm": {
     "name": "#%% md\n"
    }
   },
   "source": [
    "## looks like hotspot optimization in node vm"
   ]
  },
  {
   "cell_type": "code",
   "execution_count": null,
   "id": "80e750da",
   "metadata": {
    "pycharm": {
     "name": "#%%\n"
    }
   },
   "outputs": [],
   "source": [
    "fig,ax = plt.subplots()\n",
    "display_lim = n\n",
    "ax.plot(run_times[:display_lim,0], run_times[:display_lim,1])\n",
    "ax.set_xlabel('run number')\n",
    "ax.set_ylabel('time (ms)')\n",
    "ax.set_title(f'runtime over first {display_lim} runs')"
   ]
  },
  {
   "cell_type": "code",
   "execution_count": null,
   "id": "1d0e11f3",
   "metadata": {
    "pycharm": {
     "name": "#%%\n"
    }
   },
   "outputs": [],
   "source": []
  }
 ],
 "metadata": {
  "kernelspec": {
   "display_name": "Python 3 (ipykernel)",
   "language": "python",
   "name": "python3"
  },
  "language_info": {
   "codemirror_mode": {
    "name": "ipython",
    "version": 3
   },
   "file_extension": ".py",
   "mimetype": "text/x-python",
   "name": "python",
   "nbconvert_exporter": "python",
   "pygments_lexer": "ipython3",
   "version": "3.9.13"
  },
  "vscode": {
   "interpreter": {
    "hash": "8e33cdd9bcacb9e6f581b5e77d507b7723b9be508eb30ae68cb2f948b1dbe6d1"
   }
  }
 },
 "nbformat": 4,
 "nbformat_minor": 5
}