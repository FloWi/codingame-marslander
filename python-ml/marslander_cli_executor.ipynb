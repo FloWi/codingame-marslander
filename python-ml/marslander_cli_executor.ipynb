{
 "cells": [
  {
   "cell_type": "code",
   "execution_count": null,
   "id": "4a1210bb",
   "metadata": {
    "pycharm": {
     "is_executing": true
    }
   },
   "outputs": [],
   "source": [
    "import numpy\n",
    "import json\n",
    "import numpy as np\n",
    "import pandas as pd\n",
    "import tensorflow as tf\n",
    "import ipykernel\n",
    "import subprocess\n",
    "from collections import deque\n",
    "import matplotlib.pyplot as plt\n",
    "from matplotlib.patches import Polygon\n",
    "# import gym"
   ]
  },
  {
   "cell_type": "code",
   "execution_count": null,
   "id": "903ff4fc",
   "metadata": {
    "pycharm": {
     "is_executing": true
    }
   },
   "outputs": [],
   "source": [
    "print(numpy.version.version)\n",
    "print(ipykernel.__version__)\n",
    "tf.config.list_physical_devices()\n"
   ]
  },
  {
   "cell_type": "markdown",
   "id": "15536d8b",
   "metadata": {},
   "source": [
    "# My personal highscore for that level"
   ]
  },
  {
   "cell_type": "code",
   "execution_count": null,
   "id": "d687a7d5",
   "metadata": {
    "pycharm": {
     "is_executing": true
    }
   },
   "outputs": [],
   "source": [
    "highscore = {\"commands\": [{\"power\": 4, \"rotation\": -43}, {\"power\": 4, \"rotation\": -43}, {\"power\": 4, \"rotation\": -43}, {\"power\": 4, \"rotation\": -43},\n",
    "                          {\"power\": 4, \"rotation\": -43}, {\"power\": 4, \"rotation\": -43}, {\"power\": 4, \"rotation\": -43}, {\"power\": 4, \"rotation\": -43},\n",
    "                          {\"power\": 4, \"rotation\": -43}, {\"power\": 4, \"rotation\": -43}, {\"power\": 4, \"rotation\": -43}, {\"power\": 4, \"rotation\": -43},\n",
    "                          {\"power\": 4, \"rotation\": -43}, {\"power\": 4, \"rotation\": -43}, {\"power\": 4, \"rotation\": -43}, {\"power\": 4, \"rotation\": -43},\n",
    "                          {\"power\": 4, \"rotation\": -43}, {\"power\": 4, \"rotation\": -43}, {\"power\": 4, \"rotation\": -43}, {\"power\": 4, \"rotation\": -43},\n",
    "                          {\"power\": 4, \"rotation\": -43}, {\"power\": 4, \"rotation\": -43}, {\"power\": 4, \"rotation\": -43}, {\"power\": 4, \"rotation\": -43},\n",
    "                          {\"power\": 4, \"rotation\": -43}, {\"power\": 4, \"rotation\": -43}, {\"power\": 4, \"rotation\": -43}, {\"power\": 4, \"rotation\": -43},\n",
    "                          {\"power\": 4, \"rotation\": -43}, {\"power\": 4, \"rotation\": -43}, {\"power\": 4, \"rotation\": -43}, {\"power\": 4, \"rotation\": -43},\n",
    "                          {\"power\": 4, \"rotation\": -43}, {\"power\": 4, \"rotation\": -43}, {\"power\": 4, \"rotation\": -43}, {\"power\": 4, \"rotation\": -43},\n",
    "                          {\"power\": 3, \"rotation\": -22}, {\"power\": 3, \"rotation\": -22}, {\"power\": 3, \"rotation\": -22}, {\"power\": 3, \"rotation\": -22},\n",
    "                          {\"power\": 3, \"rotation\": -22}, {\"power\": 3, \"rotation\": -22}, {\"power\": 3, \"rotation\": -22}, {\"power\": 3, \"rotation\": -22},\n",
    "                          {\"power\": 3, \"rotation\": -22}, {\"power\": 3, \"rotation\": -22}, {\"power\": 3, \"rotation\": -22}, {\"power\": 3, \"rotation\": -22},\n",
    "                          {\"power\": 4, \"rotation\": -5}, {\"power\": 4, \"rotation\": -5}, {\"power\": 4, \"rotation\": -5}, {\"power\": 4, \"rotation\": -5},\n",
    "                          {\"power\": 4, \"rotation\": -5}, {\"power\": 4, \"rotation\": -5}, {\"power\": 4, \"rotation\": -5}, {\"power\": 4, \"rotation\": -5},\n",
    "                          {\"power\": 4, \"rotation\": -5}, {\"power\": 4, \"rotation\": -5}, {\"power\": 4, \"rotation\": -5}, {\"power\": 4, \"rotation\": -5},\n",
    "                          {\"power\": 4, \"rotation\": -5}, {\"power\": 4, \"rotation\": -5}, {\"power\": 4, \"rotation\": -5}, {\"power\": 4, \"rotation\": -5},\n",
    "                          {\"power\": 4, \"rotation\": -5}, {\"power\": 3, \"rotation\": 0}, {\"power\": 3, \"rotation\": 0}, {\"power\": 3, \"rotation\": 0},\n",
    "                          {\"power\": 3, \"rotation\": 0}, {\"power\": 3, \"rotation\": 0}, {\"power\": 3, \"rotation\": 0}, {\"power\": 3, \"rotation\": 0},\n",
    "                          {\"power\": 3, \"rotation\": 0}, {\"power\": 3, \"rotation\": 0}, {\"power\": 4, \"rotation\": 0}, {\"power\": 4, \"rotation\": 0},\n",
    "                          {\"power\": 4, \"rotation\": 0}, {\"power\": 4, \"rotation\": 0}, {\"power\": 4, \"rotation\": 0}, {\"power\": 4, \"rotation\": 0},\n",
    "                          {\"power\": 4, \"rotation\": 0}, {\"power\": 4, \"rotation\": 0}, {\"power\": 4, \"rotation\": 0}, {\"power\": 4, \"rotation\": 0},\n",
    "                          {\"power\": 4, \"rotation\": 0}, {\"power\": 4, \"rotation\": 0}, {\"power\": 4, \"rotation\": 0}, {\"power\": 4, \"rotation\": 0},\n",
    "                          {\"power\": 4, \"rotation\": 0}], \"score\": 421}"
   ]
  },
  {
   "cell_type": "code",
   "execution_count": null,
   "id": "fa824da0",
   "metadata": {
    "pycharm": {
     "is_executing": true
    }
   },
   "outputs": [],
   "source": [
    "pd.set_option(\"display.max_columns\", None)\n",
    "# pd.set_option(\"display.max_rows\", None)"
   ]
  },
  {
   "cell_type": "markdown",
   "id": "8d77a229",
   "metadata": {},
   "source": [
    "## run and visualize one prerecorded game using GymEnv"
   ]
  },
  {
   "cell_type": "code",
   "execution_count": null,
   "id": "ba081893",
   "metadata": {
    "collapsed": false,
    "jupyter": {
     "outputs_hidden": false
    },
    "pycharm": {
     "is_executing": true
    }
   },
   "outputs": [],
   "source": [
    "from importlib import reload\n",
    "import MarsLanderGymEnv\n",
    "\n",
    "reload(MarsLanderGymEnv)\n",
    "\n",
    "from MarsLanderGymEnv import MarsLanderGymEnv\n",
    "\n",
    "prerecorded_infos = []\n",
    "\n",
    "replay_commands = deque(highscore[\"commands\"])\n",
    "\n",
    "with MarsLanderGymEnv() as env:\n",
    "    obs = env.reset(seed=42)\n",
    "    # while True:  # not done:\n",
    "    while len(replay_commands) > 0:  # not done:\n",
    "        action = replay_commands.popleft()\n",
    "        random_action = action\n",
    "        # random_action = env.action_space.sample()\n",
    "        # print(\"action\", random_action)\n",
    "        obs, reward, done, truncated, info = env.step(random_action)\n",
    "        prerecorded_infos.append(info)\n",
    "        # print('reward', reward)\n",
    "        if done:\n",
    "            # print(\"is_done\")\n",
    "            break\n"
   ]
  },
  {
   "cell_type": "code",
   "execution_count": null,
   "outputs": [],
   "source": [
    "def generate_df_from_infos(infos):\n",
    "    states = [kv['state'] for kv in infos]\n",
    "    json_ary = json.dumps(states)\n",
    "    df = pd.read_json(json_ary)\n",
    "    return df"
   ],
   "metadata": {
    "collapsed": false,
    "pycharm": {
     "is_executing": true
    }
   }
  },
  {
   "cell_type": "code",
   "execution_count": null,
   "outputs": [],
   "source": [
    "def render_multiple_games(info_df_list):\n",
    "    import math\n",
    "    num_games = len(info_df_list)\n",
    "    columns = 4\n",
    "    rows = math.ceil(num_games / float(columns))\n",
    "    ratio = 7000.0 / 3000.0\n",
    "    x_size = 20\n",
    "    y_size = x_size / ratio\n",
    "    _, axs = plt.subplots(rows, columns, figsize=(x_size, y_size))\n",
    "    flattened_axes = [element for tupl in axs for element in tupl]\n",
    "    for (infos, df), sub_ax in zip(info_df_list, flattened_axes):\n",
    "        render_game(infos, df, sub_ax)\n"
   ],
   "metadata": {
    "collapsed": false,
    "pycharm": {
     "is_executing": true
    }
   }
  },
  {
   "cell_type": "code",
   "execution_count": null,
   "outputs": [],
   "source": [
    "def render_game(infos, df, ax):\n",
    "    coordinates = df[['x', 'y']].to_numpy()\n",
    "    landing_coordinates = np.array([list(map(int, line.split(' '))) for line in infos[0]['landing_coords']] + [[7000, 0], [0, 0]])\n",
    "    poly = Polygon(landing_coordinates, facecolor='r')\n",
    "\n",
    "    # fig, ax = plt.subplots()\n",
    "    ax.add_patch(poly)\n",
    "    ax.plot(coordinates[:, 0], coordinates[:, 1])\n",
    "    ax.set_xlim([0, 7000])\n",
    "    ax.set_ylim([0, 3000])"
   ],
   "metadata": {
    "collapsed": false,
    "pycharm": {
     "is_executing": true
    }
   }
  },
  {
   "cell_type": "code",
   "execution_count": null,
   "id": "ade02d8f",
   "metadata": {
    "pycharm": {
     "is_executing": true
    }
   },
   "outputs": [],
   "source": [
    "_, ax = plt.subplots()\n",
    "\n",
    "render_game(prerecorded_infos, generate_df_from_infos(prerecorded_infos), ax)"
   ]
  },
  {
   "cell_type": "markdown",
   "id": "c7186387",
   "metadata": {},
   "source": [
    "## Stesstest 100 games"
   ]
  },
  {
   "cell_type": "code",
   "execution_count": null,
   "id": "fa355514",
   "metadata": {
    "pycharm": {
     "is_executing": true
    }
   },
   "outputs": [],
   "source": [
    "%%time\n",
    "\n",
    "n = 100\n",
    "\n",
    "import time\n",
    "from MarsLanderGymEnv import MarsLanderGymEnv\n",
    "\n",
    "with MarsLanderGymEnv() as env:\n",
    "    run_times = []\n",
    "\n",
    "    start = time.time()\n",
    "\n",
    "    for episode in range(n):\n",
    "        s = time.time()\n",
    "        done = False\n",
    "        obs = env.reset()\n",
    "        while True:  # not done:\n",
    "            random_action = env.action_space.sample()\n",
    "            # print(\"action\", random_action)\n",
    "            obs, reward, done, truncated, info = env.step(random_action)\n",
    "            # print('reward', reward)\n",
    "            if done:\n",
    "                # print(\"is_done\")\n",
    "                break\n",
    "        e = time.time()\n",
    "        run_times.append([episode, (e - s) * 1000])\n",
    "\n",
    "    end = time.time()\n",
    "\n",
    "    run_times = np.array(run_times)\n"
   ]
  },
  {
   "cell_type": "markdown",
   "id": "288ad98d",
   "metadata": {},
   "source": [
    "## looks like hotspot optimization in node vm"
   ]
  },
  {
   "cell_type": "code",
   "execution_count": null,
   "id": "f35e1311",
   "metadata": {
    "pycharm": {
     "is_executing": true
    }
   },
   "outputs": [],
   "source": [
    "fig, ax = plt.subplots()\n",
    "display_lim = n\n",
    "ax.plot(run_times[:display_lim, 0], run_times[:display_lim, 1])\n",
    "ax.set_xlabel('run number')\n",
    "ax.set_ylabel('time (ms)')\n",
    "ax.set_title(f'runtime over first {display_lim} runs')"
   ]
  },
  {
   "cell_type": "markdown",
   "source": [
    "## display one game with random inputs\n"
   ],
   "metadata": {
    "collapsed": false
   }
  },
  {
   "cell_type": "code",
   "execution_count": null,
   "outputs": [],
   "source": [
    "from MarsLanderGymEnv import MarsLanderGymEnv\n",
    "\n",
    "info_df_list = []\n",
    "with MarsLanderGymEnv() as env:\n",
    "    for _ in range(0, 10):\n",
    "        infos = []\n",
    "        obs = env.reset()\n",
    "        while True:  # not done:\n",
    "            random_action = env.action_space.sample()\n",
    "            # print(\"action\", random_action)\n",
    "            obs, reward, done, truncated, info = env.step(random_action)\n",
    "            infos.append(info)\n",
    "            # print('reward', reward)\n",
    "            if done:\n",
    "                # print(\"is_done\")\n",
    "                break\n",
    "\n",
    "        info_df_list.append((infos, generate_df_from_infos(infos)))\n",
    "\n",
    "render_multiple_games(info_df_list)\n"
   ],
   "metadata": {
    "collapsed": false,
    "pycharm": {
     "is_executing": true
    }
   }
  },
  {
   "cell_type": "code",
   "execution_count": null,
   "outputs": [],
   "source": [],
   "metadata": {
    "collapsed": false,
    "pycharm": {
     "is_executing": true
    }
   }
  }
 ],
 "metadata": {
  "kernelspec": {
   "display_name": "Python 3 (ipykernel)",
   "language": "python",
   "name": "python3"
  },
  "language_info": {
   "codemirror_mode": {
    "name": "ipython",
    "version": 3
   },
   "file_extension": ".py",
   "mimetype": "text/x-python",
   "name": "python",
   "nbconvert_exporter": "python",
   "pygments_lexer": "ipython3",
   "version": "3.9.13"
  },
  "vscode": {
   "interpreter": {
    "hash": "8e33cdd9bcacb9e6f581b5e77d507b7723b9be508eb30ae68cb2f948b1dbe6d1"
   }
  }
 },
 "nbformat": 4,
 "nbformat_minor": 5
}
